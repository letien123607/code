{
  "cells": [
    {
      "cell_type": "code",
      "execution_count": 4,
      "id": "v0iG_PXSqyIh",
      "metadata": {
        "colab": {
          "base_uri": "https://localhost:8080/"
        },
        "id": "v0iG_PXSqyIh",
        "outputId": "2093894a-49e5-4fdd-9f55-eec045757e0b"
      },
      "outputs": [
        {
          "name": "stderr",
          "output_type": "stream",
          "text": [
            "'unzip' is not recognized as an internal or external command,\n",
            "operable program or batch file.\n"
          ]
        }
      ],
      "source": [
        "!unzip utkface-new.zip"
      ]
    },
    {
      "cell_type": "code",
      "execution_count": 5,
      "id": "b300f135",
      "metadata": {
        "execution": {
          "iopub.execute_input": "2021-10-31T02:33:16.334810Z",
          "iopub.status.busy": "2021-10-31T02:33:16.334061Z",
          "iopub.status.idle": "2021-10-31T02:33:16.338482Z",
          "shell.execute_reply": "2021-10-31T02:33:16.337956Z",
          "shell.execute_reply.started": "2021-10-31T02:21:18.997704Z"
        },
        "id": "b300f135",
        "papermill": {
          "duration": 0.048758,
          "end_time": "2021-10-31T02:33:16.338616",
          "exception": false,
          "start_time": "2021-10-31T02:33:16.289858",
          "status": "completed"
        },
        "tags": []
      },
      "outputs": [],
      "source": [
        "fldr=\"/content/UTKFace\""
      ]
    },
    {
      "cell_type": "code",
      "execution_count": 6,
      "id": "e1fd40ec",
      "metadata": {
        "colab": {
          "base_uri": "https://localhost:8080/"
        },
        "execution": {
          "iopub.execute_input": "2021-10-31T02:33:16.445747Z",
          "iopub.status.busy": "2021-10-31T02:33:16.444952Z",
          "iopub.status.idle": "2021-10-31T02:33:17.003840Z",
          "shell.execute_reply": "2021-10-31T02:33:17.004245Z",
          "shell.execute_reply.started": "2021-10-31T02:21:19.919176Z"
        },
        "id": "e1fd40ec",
        "outputId": "3a0b62e6-5afb-4b09-ccd0-e9b46ba048b6",
        "papermill": {
          "duration": 0.61299,
          "end_time": "2021-10-31T02:33:17.004426",
          "exception": false,
          "start_time": "2021-10-31T02:33:16.391436",
          "status": "completed"
        },
        "tags": []
      },
      "outputs": [
        {
          "ename": "FileNotFoundError",
          "evalue": "[WinError 3] The system cannot find the path specified: '/content/UTKFace'",
          "output_type": "error",
          "traceback": [
            "\u001b[1;31m---------------------------------------------------------------------------\u001b[0m",
            "\u001b[1;31mFileNotFoundError\u001b[0m                         Traceback (most recent call last)",
            "Cell \u001b[1;32mIn[6], line 2\u001b[0m\n\u001b[0;32m      1\u001b[0m \u001b[38;5;28;01mimport\u001b[39;00m \u001b[38;5;21;01mos\u001b[39;00m\n\u001b[1;32m----> 2\u001b[0m files\u001b[38;5;241m=\u001b[39m\u001b[43mos\u001b[49m\u001b[38;5;241;43m.\u001b[39;49m\u001b[43mlistdir\u001b[49m\u001b[43m(\u001b[49m\u001b[43mfldr\u001b[49m\u001b[43m)\u001b[49m\n\u001b[0;32m      3\u001b[0m \u001b[38;5;28mprint\u001b[39m(\u001b[38;5;28mint\u001b[39m(files[\u001b[38;5;241m0\u001b[39m]\u001b[38;5;241m.\u001b[39msplit(\u001b[38;5;124m'\u001b[39m\u001b[38;5;124m_\u001b[39m\u001b[38;5;124m'\u001b[39m)[\u001b[38;5;241m0\u001b[39m]))\n\u001b[0;32m      4\u001b[0m \u001b[38;5;28mprint\u001b[39m(files[\u001b[38;5;241m0\u001b[39m])\n",
            "\u001b[1;31mFileNotFoundError\u001b[0m: [WinError 3] The system cannot find the path specified: '/content/UTKFace'"
          ]
        }
      ],
      "source": [
        "import os\n",
        "files=os.listdir(fldr)\n",
        "print(int(files[0].split('_')[0]))\n",
        "print(files[0])"
      ]
    },
    {
      "cell_type": "code",
      "execution_count": null,
      "id": "4cd61616",
      "metadata": {
        "execution": {
          "iopub.execute_input": "2021-10-31T02:33:17.080060Z",
          "iopub.status.busy": "2021-10-31T02:33:17.079448Z",
          "iopub.status.idle": "2021-10-31T02:34:45.465485Z",
          "shell.execute_reply": "2021-10-31T02:34:45.464944Z",
          "shell.execute_reply.started": "2021-10-31T02:21:20.799142Z"
        },
        "id": "4cd61616",
        "papermill": {
          "duration": 88.426226,
          "end_time": "2021-10-31T02:34:45.465630",
          "exception": false,
          "start_time": "2021-10-31T02:33:17.039404",
          "status": "completed"
        },
        "tags": []
      },
      "outputs": [],
      "source": [
        "import cv2;\n",
        "\n",
        "ages=[]\n",
        "genders=[]\n",
        "images=[]\n",
        "\n",
        "for i, fle in enumerate(files):\n",
        "  age=int(fle.split('_')[0])\n",
        "  gender=int(fle.split('_')[1])\n",
        "  total=fldr+'/'+fle\n",
        "  image=cv2.imread(total)\n",
        "\n",
        "  image = cv2.cvtColor(image, cv2.COLOR_BGR2RGB)\n",
        "  image= cv2.resize(image,(48,48))\n",
        "  images.append(image)\n",
        "#   if i % 1000 == 0:\n",
        "#     print(i)"
      ]
    },
    {
      "cell_type": "code",
      "execution_count": null,
      "id": "68536a87",
      "metadata": {
        "execution": {
          "iopub.execute_input": "2021-10-31T02:34:45.569240Z",
          "iopub.status.busy": "2021-10-31T02:34:45.567667Z",
          "iopub.status.idle": "2021-10-31T02:34:45.569822Z",
          "shell.execute_reply": "2021-10-31T02:34:45.570236Z",
          "shell.execute_reply.started": "2021-10-31T02:23:41.447994Z"
        },
        "id": "68536a87",
        "papermill": {
          "duration": 0.069117,
          "end_time": "2021-10-31T02:34:45.570368",
          "exception": false,
          "start_time": "2021-10-31T02:34:45.501251",
          "status": "completed"
        },
        "tags": []
      },
      "outputs": [],
      "source": [
        "for fle in files:\n",
        "  age=int(fle.split('_')[0])\n",
        "  gender=int(fle.split('_')[1])\n",
        "  ages.append(age)\n",
        "  genders.append(gender)"
      ]
    },
    {
      "cell_type": "code",
      "execution_count": 14,
      "id": "fe83c98a",
      "metadata": {
        "execution": {
          "iopub.execute_input": "2021-10-31T02:34:45.691359Z",
          "iopub.status.busy": "2021-10-31T02:34:45.689751Z",
          "iopub.status.idle": "2021-10-31T02:34:45.691914Z",
          "shell.execute_reply": "2021-10-31T02:34:45.692349Z",
          "shell.execute_reply.started": "2021-10-31T02:23:41.484009Z"
        },
        "id": "fe83c98a",
        "papermill": {
          "duration": 0.041078,
          "end_time": "2021-10-31T02:34:45.692481",
          "exception": false,
          "start_time": "2021-10-31T02:34:45.651403",
          "status": "completed"
        },
        "tags": []
      },
      "outputs": [],
      "source": [
        "# from google.colab.patches import cv2_imshow\n",
        "# cv2_imshow(images[24])"
      ]
    },
    {
      "cell_type": "code",
      "execution_count": null,
      "id": "35246182",
      "metadata": {
        "colab": {
          "base_uri": "https://localhost:8080/"
        },
        "execution": {
          "iopub.execute_input": "2021-10-31T02:34:45.765552Z",
          "iopub.status.busy": "2021-10-31T02:34:45.764732Z",
          "iopub.status.idle": "2021-10-31T02:34:45.768396Z",
          "shell.execute_reply": "2021-10-31T02:34:45.768826Z",
          "shell.execute_reply.started": "2021-10-31T02:23:41.490810Z"
        },
        "id": "35246182",
        "outputId": "1ff81b1d-fe66-4f2e-a351-d00202c0b7ef",
        "papermill": {
          "duration": 0.041844,
          "end_time": "2021-10-31T02:34:45.768963",
          "exception": false,
          "start_time": "2021-10-31T02:34:45.727119",
          "status": "completed"
        },
        "tags": []
      },
      "outputs": [],
      "source": [
        "print(ages[24])\n",
        "print(genders[24])"
      ]
    },
    {
      "cell_type": "code",
      "execution_count": 16,
      "id": "b93570b1",
      "metadata": {
        "execution": {
          "iopub.execute_input": "2021-10-31T02:34:45.843490Z",
          "iopub.status.busy": "2021-10-31T02:34:45.841929Z",
          "iopub.status.idle": "2021-10-31T02:34:45.844078Z",
          "shell.execute_reply": "2021-10-31T02:34:45.844517Z",
          "shell.execute_reply.started": "2021-10-31T02:23:41.498222Z"
        },
        "id": "b93570b1",
        "papermill": {
          "duration": 0.040735,
          "end_time": "2021-10-31T02:34:45.844638",
          "exception": false,
          "start_time": "2021-10-31T02:34:45.803903",
          "status": "completed"
        },
        "tags": []
      },
      "outputs": [],
      "source": [
        "# cv2_imshow(images[53])"
      ]
    },
    {
      "cell_type": "code",
      "execution_count": null,
      "id": "eba1982e",
      "metadata": {
        "colab": {
          "base_uri": "https://localhost:8080/"
        },
        "execution": {
          "iopub.execute_input": "2021-10-31T02:34:45.917763Z",
          "iopub.status.busy": "2021-10-31T02:34:45.917183Z",
          "iopub.status.idle": "2021-10-31T02:34:45.920546Z",
          "shell.execute_reply": "2021-10-31T02:34:45.919973Z",
          "shell.execute_reply.started": "2021-10-31T02:23:41.505666Z"
        },
        "id": "eba1982e",
        "outputId": "db5a4f99-b3f6-4851-ee2f-dc647dd7e3c2",
        "papermill": {
          "duration": 0.041585,
          "end_time": "2021-10-31T02:34:45.920661",
          "exception": false,
          "start_time": "2021-10-31T02:34:45.879076",
          "status": "completed"
        },
        "tags": []
      },
      "outputs": [],
      "source": [
        "print(ages[53])\n",
        "print(genders[53])"
      ]
    },
    {
      "cell_type": "code",
      "execution_count": null,
      "id": "ecd8430d",
      "metadata": {
        "execution": {
          "iopub.execute_input": "2021-10-31T02:34:45.998116Z",
          "iopub.status.busy": "2021-10-31T02:34:45.996996Z",
          "iopub.status.idle": "2021-10-31T02:34:46.070764Z",
          "shell.execute_reply": "2021-10-31T02:34:46.071186Z",
          "shell.execute_reply.started": "2021-10-31T02:28:14.238755Z"
        },
        "id": "ecd8430d",
        "papermill": {
          "duration": 0.114918,
          "end_time": "2021-10-31T02:34:46.071373",
          "exception": false,
          "start_time": "2021-10-31T02:34:45.956455",
          "status": "completed"
        },
        "tags": []
      },
      "outputs": [],
      "source": [
        "import numpy as np\n",
        "images_f=np.array(images)\n",
        "genders_f=np.array(genders)\n",
        "ages_f=np.array(ages)"
      ]
    },
    {
      "cell_type": "code",
      "execution_count": null,
      "id": "8eb56bb0",
      "metadata": {
        "execution": {
          "iopub.execute_input": "2021-10-31T02:34:46.151954Z",
          "iopub.status.busy": "2021-10-31T02:34:46.151099Z",
          "iopub.status.idle": "2021-10-31T02:34:46.289537Z",
          "shell.execute_reply": "2021-10-31T02:34:46.288590Z",
          "shell.execute_reply.started": "2021-10-31T02:28:16.918232Z"
        },
        "id": "8eb56bb0",
        "papermill": {
          "duration": 0.181952,
          "end_time": "2021-10-31T02:34:46.289716",
          "exception": false,
          "start_time": "2021-10-31T02:34:46.107764",
          "status": "completed"
        },
        "tags": []
      },
      "outputs": [],
      "source": [
        "np.save('image.npy',images_f)\n",
        "np.save('gender.npy',genders_f)\n",
        "np.save('age.npy',ages_f)"
      ]
    },
    {
      "cell_type": "markdown",
      "id": "45259836",
      "metadata": {
        "id": "45259836",
        "papermill": {
          "duration": 0.057179,
          "end_time": "2021-10-31T02:34:46.426378",
          "exception": false,
          "start_time": "2021-10-31T02:34:46.369199",
          "status": "completed"
        },
        "tags": []
      },
      "source": [
        "Male = 0\n",
        "Female= 1"
      ]
    },
    {
      "cell_type": "code",
      "execution_count": null,
      "id": "203001b8",
      "metadata": {
        "colab": {
          "base_uri": "https://localhost:8080/"
        },
        "execution": {
          "iopub.execute_input": "2021-10-31T02:34:46.551143Z",
          "iopub.status.busy": "2021-10-31T02:34:46.550381Z",
          "iopub.status.idle": "2021-10-31T02:34:46.556522Z",
          "shell.execute_reply": "2021-10-31T02:34:46.557735Z",
          "shell.execute_reply.started": "2021-10-31T02:23:41.718295Z"
        },
        "id": "203001b8",
        "outputId": "1ca233bc-5228-4d7b-f9c5-9499023c3b92",
        "papermill": {
          "duration": 0.070038,
          "end_time": "2021-10-31T02:34:46.558054",
          "exception": false,
          "start_time": "2021-10-31T02:34:46.488016",
          "status": "completed"
        },
        "tags": []
      },
      "outputs": [],
      "source": [
        "values, counts = np.unique(genders_f, return_counts=True)\n",
        "print(counts)"
      ]
    },
    {
      "cell_type": "code",
      "execution_count": null,
      "id": "6d7e2835",
      "metadata": {
        "colab": {
          "base_uri": "https://localhost:8080/",
          "height": 336
        },
        "execution": {
          "iopub.execute_input": "2021-10-31T02:34:46.693563Z",
          "iopub.status.busy": "2021-10-31T02:34:46.692753Z",
          "iopub.status.idle": "2021-10-31T02:34:46.901723Z",
          "shell.execute_reply": "2021-10-31T02:34:46.902167Z",
          "shell.execute_reply.started": "2021-10-31T02:28:23.959169Z"
        },
        "id": "6d7e2835",
        "outputId": "05ed2177-0283-455c-cef1-113b9d41fde2",
        "papermill": {
          "duration": 0.276474,
          "end_time": "2021-10-31T02:34:46.902344",
          "exception": false,
          "start_time": "2021-10-31T02:34:46.625870",
          "status": "completed"
        },
        "tags": []
      },
      "outputs": [],
      "source": [
        "import matplotlib.pyplot as plt\n",
        "fig = plt.figure()\n",
        "ax = fig.add_axes([0,0,1,1])\n",
        "gender = ['Male', 'Female']\n",
        "values=[4372,5047]\n",
        "ax.bar(gender,values)\n",
        "plt.show()"
      ]
    },
    {
      "cell_type": "code",
      "execution_count": null,
      "id": "5f4247a5",
      "metadata": {
        "colab": {
          "base_uri": "https://localhost:8080/"
        },
        "execution": {
          "iopub.execute_input": "2021-10-31T02:34:46.979016Z",
          "iopub.status.busy": "2021-10-31T02:34:46.978125Z",
          "iopub.status.idle": "2021-10-31T02:34:46.983170Z",
          "shell.execute_reply": "2021-10-31T02:34:46.983719Z",
          "shell.execute_reply.started": "2021-10-31T02:28:24.397937Z"
        },
        "id": "5f4247a5",
        "outputId": "c38c97f3-e26d-4162-a844-7e4345684dfe",
        "papermill": {
          "duration": 0.045624,
          "end_time": "2021-10-31T02:34:46.983900",
          "exception": false,
          "start_time": "2021-10-31T02:34:46.938276",
          "status": "completed"
        },
        "tags": []
      },
      "outputs": [],
      "source": [
        "values, counts = np.unique(ages_f, return_counts=True)\n",
        "print(counts)"
      ]
    },
    {
      "cell_type": "code",
      "execution_count": null,
      "id": "d6a5da90",
      "metadata": {
        "execution": {
          "iopub.execute_input": "2021-10-31T02:34:47.065094Z",
          "iopub.status.busy": "2021-10-31T02:34:47.063561Z",
          "iopub.status.idle": "2021-10-31T02:34:47.065727Z",
          "shell.execute_reply": "2021-10-31T02:34:47.066120Z",
          "shell.execute_reply.started": "2021-10-31T02:28:26.604161Z"
        },
        "id": "d6a5da90",
        "papermill": {
          "duration": 0.043446,
          "end_time": "2021-10-31T02:34:47.066282",
          "exception": false,
          "start_time": "2021-10-31T02:34:47.022836",
          "status": "completed"
        },
        "tags": []
      },
      "outputs": [],
      "source": [
        "val=values.tolist()\n",
        "cnt=counts.tolist()"
      ]
    },
    {
      "cell_type": "code",
      "execution_count": null,
      "id": "86580e02",
      "metadata": {
        "colab": {
          "base_uri": "https://localhost:8080/",
          "height": 279
        },
        "execution": {
          "iopub.execute_input": "2021-10-31T02:34:47.168847Z",
          "iopub.status.busy": "2021-10-31T02:34:47.165815Z",
          "iopub.status.idle": "2021-10-31T02:34:47.319864Z",
          "shell.execute_reply": "2021-10-31T02:34:47.320337Z",
          "shell.execute_reply.started": "2021-10-31T02:28:27.158540Z"
        },
        "id": "86580e02",
        "outputId": "ee1560d2-26c4-4bf9-ab6a-23de620173c8",
        "papermill": {
          "duration": 0.21698,
          "end_time": "2021-10-31T02:34:47.320473",
          "exception": false,
          "start_time": "2021-10-31T02:34:47.103493",
          "status": "completed"
        },
        "tags": []
      },
      "outputs": [],
      "source": [
        "plt.plot(counts)\n",
        "plt.xlabel('ages')\n",
        "plt.ylabel('distribution')\n",
        "plt.show()"
      ]
    },
    {
      "cell_type": "code",
      "execution_count": null,
      "id": "a1fbfccd",
      "metadata": {
        "execution": {
          "iopub.execute_input": "2021-10-31T02:34:47.508860Z",
          "iopub.status.busy": "2021-10-31T02:34:47.507958Z",
          "iopub.status.idle": "2021-10-31T02:34:47.510364Z",
          "shell.execute_reply": "2021-10-31T02:34:47.509917Z",
          "shell.execute_reply.started": "2021-10-31T02:28:27.762711Z"
        },
        "id": "a1fbfccd",
        "papermill": {
          "duration": 0.152602,
          "end_time": "2021-10-31T02:34:47.510490",
          "exception": false,
          "start_time": "2021-10-31T02:34:47.357888",
          "status": "completed"
        },
        "tags": []
      },
      "outputs": [],
      "source": [
        "labels=[]\n",
        "\n",
        "i=0\n",
        "while i<len(ages):\n",
        "  label=[]\n",
        "  label.append([ages[i]])\n",
        "  label.append([genders[i]])\n",
        "  labels.append(label)\n",
        "  i+=1"
      ]
    },
    {
      "cell_type": "code",
      "execution_count": null,
      "id": "73c0d514",
      "metadata": {
        "colab": {
          "base_uri": "https://localhost:8080/"
        },
        "execution": {
          "iopub.execute_input": "2021-10-31T02:34:47.590901Z",
          "iopub.status.busy": "2021-10-31T02:34:47.589953Z",
          "iopub.status.idle": "2021-10-31T02:34:48.073668Z",
          "shell.execute_reply": "2021-10-31T02:34:48.074115Z",
          "shell.execute_reply.started": "2021-10-31T02:28:28.483557Z"
        },
        "id": "73c0d514",
        "outputId": "3c160aee-456c-4c01-f96a-f3a59b662ea1",
        "papermill": {
          "duration": 0.524758,
          "end_time": "2021-10-31T02:34:48.074324",
          "exception": false,
          "start_time": "2021-10-31T02:34:47.549566",
          "status": "completed"
        },
        "tags": []
      },
      "outputs": [],
      "source": [
        "images_f_2=images_f/255\n",
        "labels_f=np.array(labels)\n",
        "images_f_2.shape"
      ]
    },
    {
      "cell_type": "code",
      "execution_count": 21,
      "id": "c8fd60fe",
      "metadata": {
        "execution": {
          "iopub.execute_input": "2021-10-31T02:34:48.159208Z",
          "iopub.status.busy": "2021-10-31T02:34:48.158596Z",
          "iopub.status.idle": "2021-10-31T02:34:52.549007Z",
          "shell.execute_reply": "2021-10-31T02:34:52.548513Z",
          "shell.execute_reply.started": "2021-10-31T02:28:29.278449Z"
        },
        "id": "c8fd60fe",
        "papermill": {
          "duration": 4.433658,
          "end_time": "2021-10-31T02:34:52.549144",
          "exception": false,
          "start_time": "2021-10-31T02:34:48.115486",
          "status": "completed"
        },
        "tags": []
      },
      "outputs": [],
      "source": [
        "import tensorflow as tf\n",
        "from sklearn.model_selection import train_test_split"
      ]
    },
    {
      "cell_type": "code",
      "execution_count": 22,
      "id": "7f30850e",
      "metadata": {
        "execution": {
          "iopub.execute_input": "2021-10-31T02:34:52.634523Z",
          "iopub.status.busy": "2021-10-31T02:34:52.633364Z",
          "iopub.status.idle": "2021-10-31T02:34:53.018103Z",
          "shell.execute_reply": "2021-10-31T02:34:53.017624Z",
          "shell.execute_reply.started": "2021-10-31T02:28:29.798421Z"
        },
        "id": "7f30850e",
        "papermill": {
          "duration": 0.430361,
          "end_time": "2021-10-31T02:34:53.018258",
          "exception": false,
          "start_time": "2021-10-31T02:34:52.587897",
          "status": "completed"
        },
        "tags": []
      },
      "outputs": [],
      "source": [
        "X_train, X_test, Y_train, Y_test= train_test_split(images_f_2, labels_f,test_size=0.25)"
      ]
    },
    {
      "cell_type": "code",
      "execution_count": null,
      "id": "03e81563",
      "metadata": {
        "colab": {
          "base_uri": "https://localhost:8080/"
        },
        "execution": {
          "iopub.execute_input": "2021-10-31T02:34:53.100118Z",
          "iopub.status.busy": "2021-10-31T02:34:53.099439Z",
          "iopub.status.idle": "2021-10-31T02:34:53.102036Z",
          "shell.execute_reply": "2021-10-31T02:34:53.102476Z",
          "shell.execute_reply.started": "2021-10-31T02:28:30.648452Z"
        },
        "id": "03e81563",
        "outputId": "b29a9f63-7603-4615-a528-a8101c4d29c9",
        "papermill": {
          "duration": 0.046635,
          "end_time": "2021-10-31T02:34:53.102603",
          "exception": false,
          "start_time": "2021-10-31T02:34:53.055968",
          "status": "completed"
        },
        "tags": []
      },
      "outputs": [],
      "source": [
        "Y_train[0:5]"
      ]
    },
    {
      "cell_type": "code",
      "execution_count": null,
      "id": "3e2ca0da",
      "metadata": {
        "execution": {
          "iopub.execute_input": "2021-10-31T02:34:53.185570Z",
          "iopub.status.busy": "2021-10-31T02:34:53.184861Z",
          "iopub.status.idle": "2021-10-31T02:34:53.187535Z",
          "shell.execute_reply": "2021-10-31T02:34:53.187066Z",
          "shell.execute_reply.started": "2021-10-31T02:28:31.277583Z"
        },
        "id": "3e2ca0da",
        "papermill": {
          "duration": 0.04605,
          "end_time": "2021-10-31T02:34:53.187644",
          "exception": false,
          "start_time": "2021-10-31T02:34:53.141594",
          "status": "completed"
        },
        "tags": []
      },
      "outputs": [],
      "source": [
        "Y_train_2=[Y_train[:,1],Y_train[:,0]]\n",
        "Y_test_2=[Y_test[:,1],Y_test[:,0]]"
      ]
    },
    {
      "cell_type": "code",
      "execution_count": null,
      "id": "25792ad6",
      "metadata": {
        "colab": {
          "base_uri": "https://localhost:8080/"
        },
        "execution": {
          "iopub.execute_input": "2021-10-31T02:34:53.268736Z",
          "iopub.status.busy": "2021-10-31T02:34:53.268047Z",
          "iopub.status.idle": "2021-10-31T02:34:53.270620Z",
          "shell.execute_reply": "2021-10-31T02:34:53.271113Z",
          "shell.execute_reply.started": "2021-10-31T02:28:31.958023Z"
        },
        "id": "25792ad6",
        "outputId": "87fa97db-9039-48f8-a1d1-738efff267ca",
        "papermill": {
          "duration": 0.045512,
          "end_time": "2021-10-31T02:34:53.271257",
          "exception": false,
          "start_time": "2021-10-31T02:34:53.225745",
          "status": "completed"
        },
        "tags": []
      },
      "outputs": [],
      "source": [
        "Y_train_2[0][0:5]"
      ]
    },
    {
      "cell_type": "code",
      "execution_count": null,
      "id": "cb5df889",
      "metadata": {
        "colab": {
          "base_uri": "https://localhost:8080/"
        },
        "execution": {
          "iopub.execute_input": "2021-10-31T02:34:53.351439Z",
          "iopub.status.busy": "2021-10-31T02:34:53.350790Z",
          "iopub.status.idle": "2021-10-31T02:34:53.353428Z",
          "shell.execute_reply": "2021-10-31T02:34:53.353854Z",
          "shell.execute_reply.started": "2021-10-31T02:28:32.598270Z"
        },
        "id": "cb5df889",
        "outputId": "a0dd4d65-b92d-496b-ff8e-9143f4338654",
        "papermill": {
          "duration": 0.045004,
          "end_time": "2021-10-31T02:34:53.353971",
          "exception": false,
          "start_time": "2021-10-31T02:34:53.308967",
          "status": "completed"
        },
        "tags": []
      },
      "outputs": [],
      "source": [
        "Y_train_2[1][0:5]"
      ]
    },
    {
      "cell_type": "code",
      "execution_count": 168,
      "id": "8d7e63f2",
      "metadata": {
        "execution": {
          "iopub.execute_input": "2021-10-31T02:34:53.516969Z",
          "iopub.status.busy": "2021-10-31T02:34:53.515794Z",
          "iopub.status.idle": "2021-10-31T02:34:54.328765Z",
          "shell.execute_reply": "2021-10-31T02:34:54.327795Z",
          "shell.execute_reply.started": "2021-10-31T02:28:35.458515Z"
        },
        "id": "8d7e63f2",
        "papermill": {
          "duration": 0.858034,
          "end_time": "2021-10-31T02:34:54.328951",
          "exception": false,
          "start_time": "2021-10-31T02:34:53.470917",
          "status": "completed"
        },
        "tags": []
      },
      "outputs": [],
      "source": [
        "from tensorflow.keras.layers import Dropout\n",
        "from tensorflow.keras.layers import Flatten,BatchNormalization\n",
        "from tensorflow.keras.layers import Dense, MaxPooling2D,Conv2D\n",
        "from tensorflow.keras.layers import Input,Activation,Add\n",
        "from tensorflow.keras.models import Model\n",
        "from tensorflow.keras.regularizers import l2\n",
        "from tensorflow.keras.optimizers import Adam\n",
        "import tensorflow as tf\n",
        "\n",
        "def Convolution(input_tensor,filters):\n",
        "    \n",
        "    x = Conv2D(filters=32,kernel_size=(3, 3),padding = 'same',kernel_regularizer=l2(0.01))(input_tensor)\n",
        "    x = Dropout(0.2)(x)\n",
        "    x= Activation('relu')(x)\n",
        "\n",
        "    return x\n",
        "def model(input_shape):\n",
        "  inputs = Input((input_shape))\n",
        "  \n",
        "  conv_1= Convolution(inputs,64)\n",
        "  maxp_1 = MaxPooling2D(pool_size = (2,2)) (conv_1)\n",
        "  conv_2 = Convolution(maxp_1,32)\n",
        "  maxp_2 = MaxPooling2D(pool_size = (2, 2)) (conv_2)\n",
        "  conv_3 = Convolution(maxp_2,64)\n",
        "  maxp_3 = MaxPooling2D(pool_size = (2, 2)) (conv_3)\n",
        "  conv_4 = Convolution(maxp_3,512)\n",
        "  maxp_4 = MaxPooling2D(pool_size = (2, 2)) (conv_4)\n",
        "  flatten= Flatten() (maxp_4)\n",
        "  dense_1= Dense(64,activation='relu')(flatten)\n",
        "  dense_2= Dense(64,activation='relu')(flatten)\n",
        "  drop_1=Dropout(0.2)(dense_1)\n",
        "  drop_2=Dropout(0.2)(dense_2)\n",
        "  output_1= Dense(1,activation=\"sigmoid\",name='sex_out')(drop_1)\n",
        "  output_2= Dense(1,activation=\"relu\",name='age_out')(drop_2)\n",
        "  model = Model(inputs=[inputs], outputs=[output_1,output_2])\n",
        "  model.compile(loss=[\"binary_crossentropy\",\"mae\"], optimizer=\"Adam\",\n",
        "\tmetrics=[\"accuracy\"])\n",
        "  \n",
        "  return model"
      ]
    },
    {
      "cell_type": "code",
      "execution_count": 169,
      "id": "acad90ca",
      "metadata": {
        "execution": {
          "iopub.execute_input": "2021-10-31T02:34:57.085440Z",
          "iopub.status.busy": "2021-10-31T02:34:57.084665Z",
          "iopub.status.idle": "2021-10-31T02:34:57.087427Z",
          "shell.execute_reply": "2021-10-31T02:34:57.086969Z",
          "shell.execute_reply.started": "2021-10-31T02:28:45.998444Z"
        },
        "id": "acad90ca",
        "papermill": {
          "duration": 0.047237,
          "end_time": "2021-10-31T02:34:57.087547",
          "exception": false,
          "start_time": "2021-10-31T02:34:57.040310",
          "status": "completed"
        },
        "tags": []
      },
      "outputs": [],
      "source": [
        "from tensorflow.keras.callbacks import ModelCheckpoint\n",
        "import tensorflow as tf"
      ]
    },
    {
      "cell_type": "code",
      "execution_count": null,
      "id": "a36e661b",
      "metadata": {
        "execution": {
          "iopub.execute_input": "2021-10-31T02:34:57.172242Z",
          "iopub.status.busy": "2021-10-31T02:34:57.171628Z",
          "iopub.status.idle": "2021-10-31T02:34:57.173814Z",
          "shell.execute_reply": "2021-10-31T02:34:57.174248Z",
          "shell.execute_reply.started": "2021-10-31T02:28:46.488448Z"
        },
        "id": "a36e661b",
        "papermill": {
          "duration": 0.047274,
          "end_time": "2021-10-31T02:34:57.174379",
          "exception": false,
          "start_time": "2021-10-31T02:34:57.127105",
          "status": "completed"
        },
        "tags": []
      },
      "outputs": [],
      "source": [
        "fle_s='model_prediction.h5'\n",
        "checkpointer = ModelCheckpoint(fle_s, monitor='val_loss',verbose=1,save_best_only=True,save_weights_only=False, mode='auto',save_freq='epoch')\n",
        "Early_stop=tf.keras.callbacks.EarlyStopping(patience=80, monitor='val_loss',restore_best_weights=True),\n",
        "callback_list=[checkpointer,Early_stop]"
      ]
    },
    {
      "cell_type": "code",
      "execution_count": null,
      "id": "d6211e34",
      "metadata": {
        "execution": {
          "iopub.execute_input": "2021-10-31T02:34:57.320405Z",
          "iopub.status.busy": "2021-10-31T02:34:57.319588Z",
          "iopub.status.idle": "2021-10-31T02:40:21.388764Z",
          "shell.execute_reply": "2021-10-31T02:40:21.389178Z",
          "shell.execute_reply.started": "2021-10-31T02:28:52.279150Z"
        },
        "id": "d6211e34",
        "papermill": {
          "duration": 324.146705,
          "end_time": "2021-10-31T02:40:21.389381",
          "exception": false,
          "start_time": "2021-10-31T02:34:57.242676",
          "status": "completed"
        },
        "tags": []
      },
      "outputs": [],
      "source": [
        "History=Model.fit(X_train,Y_train_2,batch_size=64,validation_data=(X_test,Y_test_2),epochs=160,callbacks=[callback_list])"
      ]
    },
    {
      "cell_type": "code",
      "execution_count": 187,
      "id": "D1RT3UcaBpBq",
      "metadata": {
        "id": "D1RT3UcaBpBq"
      },
      "outputs": [],
      "source": [
        "from tensorflow.keras.models import load_model\n",
        "Model = load_model('model_prediction_1.h5')"
      ]
    },
    {
      "cell_type": "code",
      "execution_count": null,
      "id": "041caafc",
      "metadata": {
        "colab": {
          "base_uri": "https://localhost:8080/"
        },
        "execution": {
          "iopub.execute_input": "2021-10-31T02:40:26.708143Z",
          "iopub.status.busy": "2021-10-31T02:40:26.706989Z",
          "iopub.status.idle": "2021-10-31T02:40:28.445878Z",
          "shell.execute_reply": "2021-10-31T02:40:28.446361Z",
          "shell.execute_reply.started": "2021-10-31T02:29:49.150783Z"
        },
        "id": "041caafc",
        "outputId": "b1aa8e6d-e946-4227-9ac2-c4c3a5924f40",
        "papermill": {
          "duration": 3.065965,
          "end_time": "2021-10-31T02:40:28.446514",
          "exception": false,
          "start_time": "2021-10-31T02:40:25.380549",
          "status": "completed"
        },
        "tags": []
      },
      "outputs": [],
      "source": [
        "Model.evaluate(X_test,Y_test_2)"
      ]
    },
    {
      "cell_type": "code",
      "execution_count": 189,
      "id": "f48f77ba",
      "metadata": {
        "execution": {
          "iopub.execute_input": "2021-10-31T02:40:31.129285Z",
          "iopub.status.busy": "2021-10-31T02:40:31.128073Z",
          "iopub.status.idle": "2021-10-31T02:40:32.220175Z",
          "shell.execute_reply": "2021-10-31T02:40:32.219083Z",
          "shell.execute_reply.started": "2021-10-31T02:29:56.275733Z"
        },
        "id": "f48f77ba",
        "papermill": {
          "duration": 2.457216,
          "end_time": "2021-10-31T02:40:32.220337",
          "exception": false,
          "start_time": "2021-10-31T02:40:29.763121",
          "status": "completed"
        },
        "tags": []
      },
      "outputs": [],
      "source": [
        "pred=Model.predict(X_test)"
      ]
    },
    {
      "cell_type": "code",
      "execution_count": null,
      "id": "f02e3d61",
      "metadata": {
        "colab": {
          "base_uri": "https://localhost:8080/"
        },
        "execution": {
          "iopub.execute_input": "2021-10-31T02:40:34.868951Z",
          "iopub.status.busy": "2021-10-31T02:40:34.867009Z",
          "iopub.status.idle": "2021-10-31T02:40:34.871290Z",
          "shell.execute_reply": "2021-10-31T02:40:34.870724Z",
          "shell.execute_reply.started": "2021-10-31T02:29:57.126520Z"
        },
        "id": "f02e3d61",
        "outputId": "b9da8e8b-c0da-42e4-9bee-bba67d468183",
        "papermill": {
          "duration": 1.333366,
          "end_time": "2021-10-31T02:40:34.871431",
          "exception": false,
          "start_time": "2021-10-31T02:40:33.538065",
          "status": "completed"
        },
        "tags": []
      },
      "outputs": [],
      "source": [
        "pred[1]"
      ]
    },
    {
      "cell_type": "code",
      "execution_count": null,
      "id": "56ebe1d0",
      "metadata": {
        "colab": {
          "base_uri": "https://localhost:8080/",
          "height": 366
        },
        "execution": {
          "iopub.execute_input": "2021-10-31T02:40:37.613666Z",
          "iopub.status.busy": "2021-10-31T02:40:37.610926Z",
          "iopub.status.idle": "2021-10-31T02:40:37.830445Z",
          "shell.execute_reply": "2021-10-31T02:40:37.829955Z",
          "shell.execute_reply.started": "2021-10-31T02:29:57.420792Z"
        },
        "id": "56ebe1d0",
        "outputId": "c4198442-7737-4080-97d2-c42439fc47c3",
        "papermill": {
          "duration": 1.618339,
          "end_time": "2021-10-31T02:40:37.830585",
          "exception": false,
          "start_time": "2021-10-31T02:40:36.212246",
          "status": "completed"
        },
        "tags": []
      },
      "outputs": [],
      "source": [
        "plt.plot(History.history['loss'])\n",
        "plt.plot(History.history['val_loss'])\n",
        "plt.title('Model loss')\n",
        "plt.ylabel('Loss')\n",
        "plt.xlabel('Epoch')\n",
        "plt.legend(['Train', 'Validation'], loc='upper left')\n",
        "plt.subplots_adjust(top=1.00, bottom=0.0, left=0.0, right=0.95, hspace=0.25,\n",
        "                        wspace=0.35)"
      ]
    },
    {
      "cell_type": "code",
      "execution_count": null,
      "id": "048c42ef",
      "metadata": {
        "colab": {
          "base_uri": "https://localhost:8080/",
          "height": 366
        },
        "execution": {
          "iopub.execute_input": "2021-10-31T02:40:43.493249Z",
          "iopub.status.busy": "2021-10-31T02:40:43.491515Z",
          "iopub.status.idle": "2021-10-31T02:40:43.705330Z",
          "shell.execute_reply": "2021-10-31T02:40:43.704872Z",
          "shell.execute_reply.started": "2021-10-31T02:30:00.037970Z"
        },
        "id": "048c42ef",
        "outputId": "7fb399ae-66c9-44ac-8777-ad1ab54f6144",
        "papermill": {
          "duration": 1.582039,
          "end_time": "2021-10-31T02:40:43.705458",
          "exception": false,
          "start_time": "2021-10-31T02:40:42.123419",
          "status": "completed"
        },
        "tags": []
      },
      "outputs": [],
      "source": [
        "plt.plot(History.history['sex_out_accuracy'])\n",
        "plt.plot(History.history['val_sex_out_accuracy'])\n",
        "plt.title('Model accuracy')\n",
        "plt.ylabel('Accuracy')\n",
        "plt.xlabel('Epoch')\n",
        "plt.legend(['Train', 'Validation'], loc='upper left')\n",
        "plt.subplots_adjust(top=1.00, bottom=0.0, left=0.0, right=0.95, hspace=0.25,\n",
        "                        wspace=0.35)"
      ]
    },
    {
      "cell_type": "code",
      "execution_count": null,
      "id": "62cc37d3",
      "metadata": {
        "colab": {
          "base_uri": "https://localhost:8080/",
          "height": 279
        },
        "execution": {
          "iopub.execute_input": "2021-10-31T02:40:49.197435Z",
          "iopub.status.busy": "2021-10-31T02:40:49.196447Z",
          "iopub.status.idle": "2021-10-31T02:40:49.542503Z",
          "shell.execute_reply": "2021-10-31T02:40:49.543529Z",
          "shell.execute_reply.started": "2021-10-31T02:30:02.527123Z"
        },
        "id": "62cc37d3",
        "outputId": "55805458-5027-44d0-f287-4bed0ce8df02",
        "papermill": {
          "duration": 1.737727,
          "end_time": "2021-10-31T02:40:49.543734",
          "exception": false,
          "start_time": "2021-10-31T02:40:47.806007",
          "status": "completed"
        },
        "tags": []
      },
      "outputs": [],
      "source": [
        "fig, ax = plt.subplots()\n",
        "ax.scatter(Y_test_2[1], pred[1])\n",
        "ax.plot([Y_test_2[1].min(),Y_test_2[1].max()], [Y_test_2[1].min(), Y_test_2[1].max()], 'k--', lw=4)\n",
        "ax.set_xlabel('Actual Age')\n",
        "ax.set_ylabel('Predicted Age')\n",
        "plt.show()"
      ]
    },
    {
      "cell_type": "code",
      "execution_count": 194,
      "id": "7efc6be3",
      "metadata": {
        "execution": {
          "iopub.execute_input": "2021-10-31T02:40:55.021454Z",
          "iopub.status.busy": "2021-10-31T02:40:55.019643Z",
          "iopub.status.idle": "2021-10-31T02:40:55.022048Z",
          "shell.execute_reply": "2021-10-31T02:40:55.022495Z",
          "shell.execute_reply.started": "2021-10-31T02:30:03.938779Z"
        },
        "id": "7efc6be3",
        "papermill": {
          "duration": 1.3591,
          "end_time": "2021-10-31T02:40:55.022646",
          "exception": false,
          "start_time": "2021-10-31T02:40:53.663546",
          "status": "completed"
        },
        "tags": []
      },
      "outputs": [],
      "source": [
        "i=0\n",
        "Pred_l=[]\n",
        "while(i<len(pred[0])):\n",
        "\n",
        "  Pred_l.append(int(np.round(pred[0][i])))\n",
        "  i+=1\n"
      ]
    },
    {
      "cell_type": "code",
      "execution_count": 195,
      "id": "1354e8e0",
      "metadata": {
        "execution": {
          "iopub.execute_input": "2021-10-31T02:40:57.692825Z",
          "iopub.status.busy": "2021-10-31T02:40:57.691913Z",
          "iopub.status.idle": "2021-10-31T02:40:57.694164Z",
          "shell.execute_reply": "2021-10-31T02:40:57.694651Z",
          "shell.execute_reply.started": "2021-10-31T02:30:04.413453Z"
        },
        "id": "1354e8e0",
        "papermill": {
          "duration": 1.33577,
          "end_time": "2021-10-31T02:40:57.694839",
          "exception": false,
          "start_time": "2021-10-31T02:40:56.359069",
          "status": "completed"
        },
        "tags": []
      },
      "outputs": [],
      "source": [
        "from sklearn.metrics import confusion_matrix \n",
        "\n",
        "from sklearn.metrics import classification_report "
      ]
    },
    {
      "cell_type": "code",
      "execution_count": 196,
      "id": "e7be3b6a",
      "metadata": {
        "execution": {
          "iopub.execute_input": "2021-10-31T02:41:01.139824Z",
          "iopub.status.busy": "2021-10-31T02:41:01.139259Z",
          "iopub.status.idle": "2021-10-31T02:41:01.155015Z",
          "shell.execute_reply": "2021-10-31T02:41:01.154528Z",
          "shell.execute_reply.started": "2021-10-31T02:30:04.919815Z"
        },
        "id": "e7be3b6a",
        "papermill": {
          "duration": 1.930693,
          "end_time": "2021-10-31T02:41:01.155133",
          "exception": false,
          "start_time": "2021-10-31T02:40:59.224440",
          "status": "completed"
        },
        "tags": []
      },
      "outputs": [],
      "source": [
        "\n",
        "report=classification_report(Y_test_2[0], Pred_l)"
      ]
    },
    {
      "cell_type": "code",
      "execution_count": null,
      "id": "bb122237",
      "metadata": {
        "colab": {
          "base_uri": "https://localhost:8080/"
        },
        "execution": {
          "iopub.execute_input": "2021-10-31T02:41:03.831041Z",
          "iopub.status.busy": "2021-10-31T02:41:03.829426Z",
          "iopub.status.idle": "2021-10-31T02:41:03.833311Z",
          "shell.execute_reply": "2021-10-31T02:41:03.832839Z",
          "shell.execute_reply.started": "2021-10-31T02:30:05.393479Z"
        },
        "id": "bb122237",
        "outputId": "a65aa040-ed08-4218-80c3-09b16bd7e828",
        "papermill": {
          "duration": 1.344148,
          "end_time": "2021-10-31T02:41:03.833424",
          "exception": false,
          "start_time": "2021-10-31T02:41:02.489276",
          "status": "completed"
        },
        "tags": []
      },
      "outputs": [],
      "source": [
        "print(report)"
      ]
    },
    {
      "cell_type": "code",
      "execution_count": 198,
      "id": "c7ee1dc5",
      "metadata": {
        "execution": {
          "iopub.execute_input": "2021-10-31T02:41:06.587380Z",
          "iopub.status.busy": "2021-10-31T02:41:06.586618Z",
          "iopub.status.idle": "2021-10-31T02:41:06.600253Z",
          "shell.execute_reply": "2021-10-31T02:41:06.600643Z",
          "shell.execute_reply.started": "2021-10-31T02:30:05.822668Z"
        },
        "id": "c7ee1dc5",
        "papermill": {
          "duration": 1.429939,
          "end_time": "2021-10-31T02:41:06.600779",
          "exception": false,
          "start_time": "2021-10-31T02:41:05.170840",
          "status": "completed"
        },
        "tags": []
      },
      "outputs": [],
      "source": [
        "\n",
        "results = confusion_matrix(Y_test_2[0], Pred_l)"
      ]
    },
    {
      "cell_type": "code",
      "execution_count": null,
      "id": "f3c8f6e0",
      "metadata": {
        "colab": {
          "base_uri": "https://localhost:8080/",
          "height": 282
        },
        "execution": {
          "iopub.execute_input": "2021-10-31T02:41:09.294485Z",
          "iopub.status.busy": "2021-10-31T02:41:09.293787Z",
          "iopub.status.idle": "2021-10-31T02:41:09.620236Z",
          "shell.execute_reply": "2021-10-31T02:41:09.619791Z",
          "shell.execute_reply.started": "2021-10-31T02:30:06.332608Z"
        },
        "id": "f3c8f6e0",
        "outputId": "69a5caf6-bdbb-4b88-9145-abf7e555acf7",
        "papermill": {
          "duration": 1.65931,
          "end_time": "2021-10-31T02:41:09.620366",
          "exception": false,
          "start_time": "2021-10-31T02:41:07.961056",
          "status": "completed"
        },
        "tags": []
      },
      "outputs": [],
      "source": [
        "import seaborn as sns\n",
        "\n",
        "sns.heatmap(results, annot=True)"
      ]
    },
    {
      "cell_type": "code",
      "execution_count": 200,
      "id": "c12c2839",
      "metadata": {
        "execution": {
          "iopub.execute_input": "2021-10-31T02:41:12.543298Z",
          "iopub.status.busy": "2021-10-31T02:41:12.542437Z",
          "iopub.status.idle": "2021-10-31T02:41:12.544552Z",
          "shell.execute_reply": "2021-10-31T02:41:12.544929Z",
          "shell.execute_reply.started": "2021-10-31T02:30:06.884449Z"
        },
        "id": "c12c2839",
        "papermill": {
          "duration": 1.60507,
          "end_time": "2021-10-31T02:41:12.545067",
          "exception": false,
          "start_time": "2021-10-31T02:41:10.939997",
          "status": "completed"
        },
        "tags": []
      },
      "outputs": [],
      "source": [
        "def test_image(ind,images_f,images_f_2,Model):\n",
        "#   cv2_imshow(images_f[ind])\n",
        "  plt.imshow(images_f[ind])\n",
        "  image_test=images_f_2[ind]\n",
        "  pred_1=Model.predict(np.array([image_test]))\n",
        "  #print(pred_1)\n",
        "  sex_f=['Male','Female']\n",
        "  age=int(np.round(pred_1[1][0]))\n",
        "  sex=int(np.round(pred_1[0][0]))\n",
        "  print(\"Predicted Age: \"+ str(age))\n",
        "  print(\"Predicted Sex: \"+ sex_f[sex])\n",
        "\n",
        "age=int(np.round(pred_1[1][0]))-1310\n",
        "sex=int(np.round(pred_1[0][0]))"
      ]
    },
    {
      "cell_type": "code",
      "execution_count": 211,
      "id": "Rrq0s2RY16h2",
      "metadata": {
        "id": "Rrq0s2RY16h2"
      },
      "outputs": [],
      "source": [
        "img = cv2.imread('/content/emirhan.jpg')\n",
        "img = cv2.resize(img,(48,48))\n",
        "img = np.reshape(img,[48,48,3])"
      ]
    },
    {
      "cell_type": "code",
      "execution_count": null,
      "id": "j8gBKaAN0UXB",
      "metadata": {
        "colab": {
          "base_uri": "https://localhost:8080/",
          "height": 304
        },
        "id": "j8gBKaAN0UXB",
        "outputId": "882fdc3f-79e9-429f-ca8f-36741e0915bd"
      },
      "outputs": [],
      "source": [
        "pred_1=Model.predict(np.array([img]))\n",
        "#print(pred_1)\n",
        "sex_f=['Male','Female']\n",
        "print(\"Predicted Age: \"+ str(age))\n",
        "print(\"Predicted Sex: \"+ sex_f[sex])\n",
        "from google.colab.patches import cv2_imshow\n",
        "images = cv2.imread('/content/emirhan.jpg')\n",
        "images = cv2.cvtColor(images, cv2.COLOR_BGR2RGB)\n",
        "plt.imshow(images)\n",
        "plt.show()"
      ]
    },
    {
      "cell_type": "code",
      "execution_count": 213,
      "id": "4mYy3dqcHs_V",
      "metadata": {
        "id": "4mYy3dqcHs_V"
      },
      "outputs": [],
      "source": [
        "img = cv2.imread('/content/emirhan_1.jpg')\n",
        "img = cv2.resize(img,(48,48))\n",
        "img = np.reshape(img,[48,48,3])"
      ]
    },
    {
      "cell_type": "code",
      "execution_count": null,
      "id": "5NeF_5ckHwOJ",
      "metadata": {
        "colab": {
          "base_uri": "https://localhost:8080/",
          "height": 304
        },
        "id": "5NeF_5ckHwOJ",
        "outputId": "be8f0edd-bd1e-4969-975c-c9c057bf7b98"
      },
      "outputs": [],
      "source": [
        "pred_1=Model.predict(np.array([img]))\n",
        "#print(pred_1)\n",
        "sex_f=['Male','Female']\n",
        "print(\"Predicted Age: \"+ str(age))\n",
        "print(\"Predicted Sex: \"+ sex_f[sex])\n",
        "from google.colab.patches import cv2_imshow\n",
        "images = cv2.imread('/content/emirhan_1.jpg')\n",
        "images = cv2.cvtColor(images, cv2.COLOR_BGR2RGB)\n",
        "plt.imshow(images)\n",
        "plt.show()"
      ]
    },
    {
      "cell_type": "code",
      "execution_count": 1,
      "id": "26e37257",
      "metadata": {
        "colab": {
          "base_uri": "https://localhost:8080/",
          "height": 302
        },
        "execution": {
          "iopub.execute_input": "2021-10-31T02:41:15.268896Z",
          "iopub.status.busy": "2021-10-31T02:41:15.266959Z",
          "iopub.status.idle": "2021-10-31T02:41:15.534569Z",
          "shell.execute_reply": "2021-10-31T02:41:15.534091Z",
          "shell.execute_reply.started": "2021-10-31T02:30:07.685018Z"
        },
        "id": "26e37257",
        "outputId": "ea89f389-7b4f-48aa-957d-14468bfefbe2",
        "papermill": {
          "duration": 1.653316,
          "end_time": "2021-10-31T02:41:15.534698",
          "exception": false,
          "start_time": "2021-10-31T02:41:13.881382",
          "status": "completed"
        },
        "tags": []
      },
      "outputs": [
        {
          "ename": "NameError",
          "evalue": "name 'test_image' is not defined",
          "output_type": "error",
          "traceback": [
            "\u001b[1;31m---------------------------------------------------------------------------\u001b[0m",
            "\u001b[1;31mNameError\u001b[0m                                 Traceback (most recent call last)",
            "Cell \u001b[1;32mIn[1], line 1\u001b[0m\n\u001b[1;32m----> 1\u001b[0m \u001b[43mtest_image\u001b[49m(\u001b[38;5;241m57\u001b[39m,images_f,images_f_2,Model)\n",
            "\u001b[1;31mNameError\u001b[0m: name 'test_image' is not defined"
          ]
        }
      ],
      "source": [
        "test_image(57,images_f,images_f_2,Model)"
      ]
    },
    {
      "cell_type": "code",
      "execution_count": null,
      "id": "c81cce44",
      "metadata": {
        "colab": {
          "base_uri": "https://localhost:8080/",
          "height": 302
        },
        "execution": {
          "iopub.execute_input": "2021-10-31T02:41:18.212409Z",
          "iopub.status.busy": "2021-10-31T02:41:18.211518Z",
          "iopub.status.idle": "2021-10-31T02:41:18.402565Z",
          "shell.execute_reply": "2021-10-31T02:41:18.403059Z",
          "shell.execute_reply.started": "2021-10-31T02:30:14.279728Z"
        },
        "id": "c81cce44",
        "outputId": "631ec6cf-d5ee-4be9-89ae-81e28953b5c3",
        "papermill": {
          "duration": 1.532723,
          "end_time": "2021-10-31T02:41:18.403229",
          "exception": false,
          "start_time": "2021-10-31T02:41:16.870506",
          "status": "completed"
        },
        "tags": []
      },
      "outputs": [],
      "source": [
        "test_image(137,images_f,images_f_2,Model)"
      ]
    },
    {
      "cell_type": "code",
      "execution_count": null,
      "id": "7e417348",
      "metadata": {
        "colab": {
          "base_uri": "https://localhost:8080/",
          "height": 302
        },
        "execution": {
          "iopub.execute_input": "2021-10-31T02:41:21.078421Z",
          "iopub.status.busy": "2021-10-31T02:41:21.077542Z",
          "iopub.status.idle": "2021-10-31T02:41:21.301229Z",
          "shell.execute_reply": "2021-10-31T02:41:21.301646Z",
          "shell.execute_reply.started": "2021-10-31T02:30:18.503186Z"
        },
        "id": "7e417348",
        "outputId": "752e5457-918f-4a1e-a517-41e07493c519",
        "papermill": {
          "duration": 1.561577,
          "end_time": "2021-10-31T02:41:21.301800",
          "exception": false,
          "start_time": "2021-10-31T02:41:19.740223",
          "status": "completed"
        },
        "tags": []
      },
      "outputs": [],
      "source": [
        "test_image(502,images_f,images_f_2,Model)"
      ]
    },
    {
      "cell_type": "code",
      "execution_count": null,
      "id": "affd01a7",
      "metadata": {
        "colab": {
          "base_uri": "https://localhost:8080/",
          "height": 302
        },
        "execution": {
          "iopub.execute_input": "2021-10-31T02:41:24.272221Z",
          "iopub.status.busy": "2021-10-31T02:41:24.263363Z",
          "iopub.status.idle": "2021-10-31T02:41:24.479862Z",
          "shell.execute_reply": "2021-10-31T02:41:24.480317Z",
          "shell.execute_reply.started": "2021-10-31T02:30:21.647314Z"
        },
        "id": "affd01a7",
        "outputId": "c8667c2c-20d5-43ec-9976-75a34d6edb12",
        "papermill": {
          "duration": 1.559051,
          "end_time": "2021-10-31T02:41:24.480484",
          "exception": false,
          "start_time": "2021-10-31T02:41:22.921433",
          "status": "completed"
        },
        "tags": []
      },
      "outputs": [],
      "source": [
        "test_image(24,images_f,images_f_2,Model)"
      ]
    }
  ],
  "metadata": {
    "accelerator": "GPU",
    "colab": {
      "name": "Age and Sex Prediction from Image - Convolutional Neural Network with Artificial Intelligence.ipynb",
      "provenance": []
    },
    "kernelspec": {
      "display_name": "Python 3",
      "language": "python",
      "name": "python3"
    },
    "language_info": {
      "codemirror_mode": {
        "name": "ipython",
        "version": 3
      },
      "file_extension": ".py",
      "mimetype": "text/x-python",
      "name": "python",
      "nbconvert_exporter": "python",
      "pygments_lexer": "ipython3",
      "version": "3.11.9"
    },
    "papermill": {
      "default_parameters": {},
      "duration": 500.498298,
      "end_time": "2021-10-31T02:41:29.209677",
      "environment_variables": {},
      "exception": null,
      "input_path": "__notebook__.ipynb",
      "output_path": "__notebook__.ipynb",
      "parameters": {},
      "start_time": "2021-10-31T02:33:08.711379",
      "version": "2.3.3"
    }
  },
  "nbformat": 4,
  "nbformat_minor": 5
}
